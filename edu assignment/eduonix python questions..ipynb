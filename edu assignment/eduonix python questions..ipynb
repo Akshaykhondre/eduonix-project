{
 "cells": [
  {
   "cell_type": "markdown",
   "id": "ad88aedf",
   "metadata": {},
   "source": [
    "# Python"
   ]
  },
  {
   "cell_type": "markdown",
   "id": "8fa37715",
   "metadata": {},
   "source": [
    "1.Write a program using list comprehension to find primes \n",
    "in range 2 to 100."
   ]
  },
  {
   "cell_type": "code",
   "execution_count": 1,
   "id": "bea63e85",
   "metadata": {},
   "outputs": [
    {
     "name": "stdout",
     "output_type": "stream",
     "text": [
      "[2, 3, 5, 7, 11, 13, 17, 19, 23, 29, 31, 37, 41, 43, 47, 53, 59, 61, 67, 71, 73, 79, 83, 89, 97]\n"
     ]
    }
   ],
   "source": [
    "value=101\n",
    "prime_numbers=[i for i in range(2,101) if all(i % y != 0 for y in range(2, i))]\n",
    "print(prime_numbers)   "
   ]
  },
  {
   "cell_type": "code",
   "execution_count": null,
   "id": "258fc143",
   "metadata": {},
   "outputs": [],
   "source": []
  },
  {
   "cell_type": "markdown",
   "id": "018a2d33",
   "metadata": {},
   "source": [
    "2.Write a function to reverse a string"
   ]
  },
  {
   "cell_type": "markdown",
   "id": "50a6925b",
   "metadata": {},
   "source": [
    "string='reverse a string'"
   ]
  },
  {
   "cell_type": "code",
   "execution_count": 2,
   "id": "3c8bd885",
   "metadata": {},
   "outputs": [],
   "source": [
    "string='reverse a string'"
   ]
  },
  {
   "cell_type": "code",
   "execution_count": 3,
   "id": "b11433f9",
   "metadata": {},
   "outputs": [
    {
     "data": {
      "text/plain": [
       "'gnirts a esrever'"
      ]
     },
     "execution_count": 3,
     "metadata": {},
     "output_type": "execute_result"
    }
   ],
   "source": [
    "string[::-1]"
   ]
  },
  {
   "cell_type": "markdown",
   "id": "493b9f78",
   "metadata": {},
   "source": [
    "3.Write a program to extract the words from the given list which have their first character in uppercase. Days = ['Monday', 'tuesday','friday', 'Sunday', 'Saturday']\n",
    "Output: ['Monday', 'Sunday', 'Saturday'"
   ]
  },
  {
   "cell_type": "code",
   "execution_count": 4,
   "id": "0d1f9d90",
   "metadata": {},
   "outputs": [],
   "source": [
    "Days= ['Monday', 'tuesday','friday', 'Sunday', 'Saturday']\n",
    "first_character_in_uppercase=[letter for letter in Days if letter[0].isupper()]"
   ]
  },
  {
   "cell_type": "code",
   "execution_count": 6,
   "id": "0ccf1f94",
   "metadata": {},
   "outputs": [
    {
     "name": "stdout",
     "output_type": "stream",
     "text": [
      "['Monday', 'Sunday', 'Saturday']\n"
     ]
    }
   ],
   "source": [
    "print(first_character_in_uppercase)"
   ]
  },
  {
   "cell_type": "markdown",
   "id": "094d948f",
   "metadata": {},
   "source": [
    "4.Write a program to extract the year part from the dates in \n",
    "the given list.\n",
    "\n",
    "Batch = ['15-06-1997','15-06-2011','15-06-1993','15-06-2020']\n",
    "\n",
    "Output: ['1997','2011','1993','2020']"
   ]
  },
  {
   "cell_type": "code",
   "execution_count": 1,
   "id": "e3e68727",
   "metadata": {},
   "outputs": [],
   "source": [
    "Batch = ['15-06-1997','15-06-2011','15-06-1993','15-06-2020']\n",
    "years=[date.split('-')[2] for date in Batch]"
   ]
  },
  {
   "cell_type": "code",
   "execution_count": 2,
   "id": "b0da4724",
   "metadata": {},
   "outputs": [
    {
     "name": "stdout",
     "output_type": "stream",
     "text": [
      "['1997', '2011', '1993', '2020']\n"
     ]
    }
   ],
   "source": [
    "print(years)"
   ]
  },
  {
   "cell_type": "code",
   "execution_count": null,
   "id": "abf61204",
   "metadata": {},
   "outputs": [],
   "source": []
  },
  {
   "cell_type": "markdown",
   "id": "3fc0632a",
   "metadata": {},
   "source": [
    "5.Write a program swap the keys to values and values to keys of the given dictionary. \n",
    "\n",
    "Module = {'Data Science':1,'Machine Learning':2, 'SQL':3, 'Big Data':4} \n",
    "\n",
    "Output: {1:'Data Science',2:'Machine Learning', 3:'SQL', 4:'Big Data'}"
   ]
  },
  {
   "cell_type": "code",
   "execution_count": 2,
   "id": "84f82c00",
   "metadata": {},
   "outputs": [],
   "source": [
    "Module = {'Data Science':1,'Machine Learning':2, 'SQL':3, 'Big Data':4}"
   ]
  },
  {
   "cell_type": "code",
   "execution_count": 5,
   "id": "5cc13440",
   "metadata": {},
   "outputs": [],
   "source": [
    "swap_Module={value:key for key,value in Module.items()}"
   ]
  },
  {
   "cell_type": "code",
   "execution_count": 6,
   "id": "6bcda571",
   "metadata": {},
   "outputs": [
    {
     "name": "stdout",
     "output_type": "stream",
     "text": [
      "{1: 'Data Science', 2: 'Machine Learning', 3: 'SQL', 4: 'Big Data'}\n"
     ]
    }
   ],
   "source": [
    "print(swap_Module)"
   ]
  },
  {
   "cell_type": "markdown",
   "id": "99c46d7d",
   "metadata": {},
   "source": [
    "6.Write a program to count the number of elements in the string (given by the user) that are not present in the 'my_string'. \n",
    "\n",
    "Do not count the white spaces.\n",
    "\n",
    "my_string = 'Data Science'"
   ]
  },
  {
   "cell_type": "code",
   "execution_count": 13,
   "id": "2ccb7584",
   "metadata": {},
   "outputs": [],
   "source": [
    "my_string = 'Data Science'"
   ]
  },
  {
   "cell_type": "code",
   "execution_count": 14,
   "id": "d54d0b60",
   "metadata": {},
   "outputs": [
    {
     "name": "stdout",
     "output_type": "stream",
     "text": [
      "enter string:akshay\n"
     ]
    }
   ],
   "source": [
    "users_string=input(\"enter string:\")\n",
    "count=0"
   ]
  },
  {
   "cell_type": "code",
   "execution_count": 15,
   "id": "b06572fa",
   "metadata": {},
   "outputs": [
    {
     "name": "stdout",
     "output_type": "stream",
     "text": [
      "number of element not in 'my_string': 4\n"
     ]
    }
   ],
   "source": [
    "for element in users_string:\n",
    "    if element != ' ' and element not in my_string:\n",
    "        count+=1\n",
    "print(\"number of element not in 'my_string':\",count)        "
   ]
  },
  {
   "cell_type": "markdown",
   "id": "9d8337ba",
   "metadata": {},
   "source": [
    "7.Define a function to check whether a number is in a range (1000,10000) or not."
   ]
  },
  {
   "cell_type": "code",
   "execution_count": 23,
   "id": "e3a1c4ae",
   "metadata": {},
   "outputs": [],
   "source": [
    "def in_range(number):\n",
    "    \n",
    "    if number in range(1000,10000):\n",
    "        print(number,\"is in a range\")\n",
    "    else:\n",
    "        print(number,\"is not in a range\")\n",
    "        "
   ]
  },
  {
   "cell_type": "code",
   "execution_count": 24,
   "id": "6a506a99",
   "metadata": {},
   "outputs": [
    {
     "name": "stdout",
     "output_type": "stream",
     "text": [
      "55 is not in a range\n",
      "<function in_range at 0x0000020F019C0AF0>\n"
     ]
    }
   ],
   "source": [
    "in_range(55)\n",
    "print(in_range)"
   ]
  },
  {
   "cell_type": "code",
   "execution_count": null,
   "id": "41f91ddd",
   "metadata": {},
   "outputs": [],
   "source": []
  },
  {
   "cell_type": "markdown",
   "id": "79ecb88b",
   "metadata": {},
   "source": [
    "8.Write a program to calculate the sum of all elements in the list.\n",
    "\n",
    "test_score = [10, 32, 23, 14, 25]"
   ]
  },
  {
   "cell_type": "code",
   "execution_count": 25,
   "id": "966743cc",
   "metadata": {},
   "outputs": [],
   "source": [
    "test_score = [10, 32, 23, 14, 25]"
   ]
  },
  {
   "cell_type": "code",
   "execution_count": 26,
   "id": "4908a493",
   "metadata": {},
   "outputs": [],
   "source": [
    "sum_ofall=sum(test_score)"
   ]
  },
  {
   "cell_type": "code",
   "execution_count": 27,
   "id": "90d834f1",
   "metadata": {},
   "outputs": [
    {
     "name": "stdout",
     "output_type": "stream",
     "text": [
      "104\n"
     ]
    }
   ],
   "source": [
    "print(sum_ofall)"
   ]
  },
  {
   "cell_type": "code",
   "execution_count": null,
   "id": "d39b37a2",
   "metadata": {},
   "outputs": [],
   "source": []
  },
  {
   "cell_type": "markdown",
   "id": "d083692d",
   "metadata": {},
   "source": [
    "9.Replace all even numbers in the array with -1.\n",
    "\n",
    "Use the array given below num_array = np.array([0, 21, 32, 13, 44, 45, 26, 28, 38, 34, 65, 48, 76])"
   ]
  },
  {
   "cell_type": "code",
   "execution_count": 28,
   "id": "642b1a65",
   "metadata": {},
   "outputs": [],
   "source": [
    "import numpy as np"
   ]
  },
  {
   "cell_type": "code",
   "execution_count": 29,
   "id": "7c21367b",
   "metadata": {},
   "outputs": [],
   "source": [
    "num_array = np.array([0, 21, 32, 13, 44, 45, 26, 28, 38, 34, 65, 48, 76])"
   ]
  },
  {
   "cell_type": "code",
   "execution_count": 31,
   "id": "e954b0b8",
   "metadata": {},
   "outputs": [
    {
     "name": "stdout",
     "output_type": "stream",
     "text": [
      "[-1 21 -1 13 -1 45 -1 -1 -1 -1 65 -1 -1]\n"
     ]
    }
   ],
   "source": [
    "num_array[num_array % 2==0]=-1\n",
    "print(num_array)"
   ]
  },
  {
   "cell_type": "markdown",
   "id": "2e36cc99",
   "metadata": {},
   "source": [
    "10.Find the minimum value along each of the rows. \n",
    "\n",
    "Create a 2D Numpy array from list of lists \n",
    "\n",
    "Score = np.array([[210, 402, 383], [140, 375, 106], [140, 125, 217], [292, 240, 295]])"
   ]
  },
  {
   "cell_type": "code",
   "execution_count": 32,
   "id": "a08b0b0e",
   "metadata": {},
   "outputs": [],
   "source": [
    "import numpy as np\n",
    "Score = np.array([[210, 402, 383], [140, 375, 106], [140, 125, 217], [292, 240, 295]])"
   ]
  },
  {
   "cell_type": "code",
   "execution_count": 35,
   "id": "97ce92c2",
   "metadata": {},
   "outputs": [],
   "source": [
    "min_value=np.min(Score,axis=1)"
   ]
  },
  {
   "cell_type": "code",
   "execution_count": 36,
   "id": "d41451b4",
   "metadata": {},
   "outputs": [
    {
     "name": "stdout",
     "output_type": "stream",
     "text": [
      "[210 106 125 240]\n"
     ]
    }
   ],
   "source": [
    "print(min_value)"
   ]
  },
  {
   "cell_type": "code",
   "execution_count": null,
   "id": "74162989",
   "metadata": {},
   "outputs": [],
   "source": []
  }
 ],
 "metadata": {
  "kernelspec": {
   "display_name": "Python 3",
   "language": "python",
   "name": "python3"
  },
  "language_info": {
   "codemirror_mode": {
    "name": "ipython",
    "version": 3
   },
   "file_extension": ".py",
   "mimetype": "text/x-python",
   "name": "python",
   "nbconvert_exporter": "python",
   "pygments_lexer": "ipython3",
   "version": "3.8.8"
  }
 },
 "nbformat": 4,
 "nbformat_minor": 5
}
